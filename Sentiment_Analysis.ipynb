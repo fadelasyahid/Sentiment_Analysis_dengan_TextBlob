{
 "cells": [
  {
   "cell_type": "markdown",
   "metadata": {},
   "source": [
    "##  Sentiment Analysis using TextBlob "
   ]
  },
  {
   "cell_type": "markdown",
   "metadata": {},
   "source": [
    "Saya membuat penerjemah untuk melakukan sentimental analisis dari suatu pernyataan. \n",
    "\n",
    "Model ini akan merubah kalimat bahasa Indonesia kedalam bahasa Inggris dan kemudian dari pernyataan tersebut akan dilakukan analisa sentimental dengan menghitung popularity dan subjectivity nya.\n",
    "\n",
    "Jika user memilih dan memasukan kalimat dalam bahasa inggris, model akan melakukan koreksi jika di dalam kalimat ada kesalahan dan kemudian akan melakukan analisa sentimental dengan menghitung popularity dan subjectivitinya."
   ]
  },
  {
   "cell_type": "code",
   "execution_count": null,
   "metadata": {},
   "outputs": [],
   "source": []
  },
  {
   "cell_type": "code",
   "execution_count": 1,
   "metadata": {},
   "outputs": [],
   "source": [
    "from textblob import TextBlob as tb\n",
    "\n",
    "\n",
    "def sentiment_analysis(start):\n",
    "    start = input('English/Bahasa?').lower()\n",
    "    \n",
    "    if start =='bahasa' or start=='english':\n",
    "        if start =='bahasa':\n",
    "            kata = input('kalimat :')\n",
    "            ganti = tb(kata)\n",
    "            cek = ganti.translate(to='en').lower()\n",
    "            print(cek)\n",
    "            print(f'polarity :',cek.sentiment.polarity)\n",
    "            print(f'subjectivity:',cek.sentiment.subjectivity)\n",
    "        else:\n",
    "            word = input('sentence:').lower()\n",
    "            word = tb(word)\n",
    "            word = word.correct()\n",
    "            print(f'your sentences:',word)\n",
    "            print(f'polarity :',word.sentiment.polarity)\n",
    "            print(f'subjectivity:',word.sentiment.subjectivity)  \n",
    "    else:\n",
    "        print(' Please be informed that your command can not be proceed. Please to use English or Bahasa')"
   ]
  },
  {
   "cell_type": "code",
   "execution_count": 2,
   "metadata": {},
   "outputs": [
    {
     "name": "stdin",
     "output_type": "stream",
     "text": [
      "English/Bahasa? bahasa\n",
      "kalimat : saya sangat suka bajunya. sangat bagus dan keren\n"
     ]
    },
    {
     "name": "stdout",
     "output_type": "stream",
     "text": [
      "i really like the clothes. very nice and cool\n",
      "polarity : 0.44333333333333336\n",
      "subjectivity: 0.6166666666666667\n"
     ]
    }
   ],
   "source": [
    "## bahasa version\n",
    "\n",
    "sentiment_analysis('analysis')"
   ]
  },
  {
   "cell_type": "code",
   "execution_count": 3,
   "metadata": {},
   "outputs": [
    {
     "name": "stdin",
     "output_type": "stream",
     "text": [
      "English/Bahasa? english\n",
      "sentence: this t-shirt is ridicilious\n"
     ]
    },
    {
     "name": "stdout",
     "output_type": "stream",
     "text": [
      "your sentences: this t-shirt is ridiculous\n",
      "polarity : -0.3333333333333333\n",
      "subjectivity: 1.0\n"
     ]
    }
   ],
   "source": [
    "## english version dengan kesalahan kata\n",
    "\n",
    "sentiment_analysis('analysis')"
   ]
  },
  {
   "cell_type": "code",
   "execution_count": 4,
   "metadata": {},
   "outputs": [
    {
     "name": "stdin",
     "output_type": "stream",
     "text": [
      "English/Bahasa? melayu\n"
     ]
    },
    {
     "name": "stdout",
     "output_type": "stream",
     "text": [
      " Please be informed that your command can not be proceed. Please to use English or Bahasa\n"
     ]
    }
   ],
   "source": [
    "## other version\n",
    "\n",
    "sentiment_analysis('analysis')"
   ]
  },
  {
   "cell_type": "code",
   "execution_count": null,
   "metadata": {},
   "outputs": [],
   "source": []
  }
 ],
 "metadata": {
  "kernelspec": {
   "display_name": "Python 3",
   "language": "python",
   "name": "python3"
  },
  "language_info": {
   "codemirror_mode": {
    "name": "ipython",
    "version": 3
   },
   "file_extension": ".py",
   "mimetype": "text/x-python",
   "name": "python",
   "nbconvert_exporter": "python",
   "pygments_lexer": "ipython3",
   "version": "3.7.4"
  }
 },
 "nbformat": 4,
 "nbformat_minor": 4
}
